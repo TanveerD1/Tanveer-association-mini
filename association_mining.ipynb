{
 "cells": [
  {
   "cell_type": "markdown",
   "id": "a44696f3",
   "metadata": {},
   "source": [
    "### Imports"
   ]
  },
  {
   "cell_type": "code",
   "execution_count": 13,
   "id": "3e84a384",
   "metadata": {},
   "outputs": [],
   "source": [
    "import pandas as pd\n",
    "from mlxtend.preprocessing import TransactionEncoder\n",
    "from mlxtend.frequent_patterns import apriori, association_rules\n",
    "import random"
   ]
  },
  {
   "cell_type": "markdown",
   "id": "cdc0a559",
   "metadata": {},
   "source": [
    "## 1. Simulating Transactional Data"
   ]
  },
  {
   "cell_type": "code",
   "execution_count": 14,
   "id": "940a9f86",
   "metadata": {},
   "outputs": [
    {
     "name": "stdout",
     "output_type": "stream",
     "text": [
      "Transaction 1: ['Eggs', 'Cheese', 'Bananas', 'Yogurt', 'Steak']\n",
      "Transaction 2: ['Bread', 'Bananas', 'Eggs', 'Milk']\n",
      "Transaction 3: ['Bread', 'Cheese', 'Milk']\n",
      "Transaction 4: ['Yogurt', 'Steak']\n",
      "Transaction 5: ['Milk', 'Bread', 'Cheese', 'Apples']\n",
      "Transaction 6: ['Eggs', 'Yogurt', 'Bread', 'Cheese']\n",
      "Transaction 7: ['Cheese', 'Yogurt', 'Eggs', 'Bananas', 'Bread']\n",
      "Transaction 8: ['Steak', 'Yogurt', 'Eggs', 'Bread']\n",
      "Transaction 9: ['Cheese', 'Steak']\n",
      "Transaction 10: ['Yogurt', 'Bananas', 'Bread']\n"
     ]
    }
   ],
   "source": [
    "# Item list\n",
    "items = ['Bread', 'Milk', 'Eggs', 'Cheese', 'Steak', 'Yogurt', 'Apples', 'Bananas']\n",
    "\n",
    "# Generating 10 transactions with 2 to 5 items each(i set seed to make it more reproducible)\n",
    "random.seed(142) \n",
    "transactions = []\n",
    "for _ in range(10):\n",
    "    num_items = random.randint(2, 5)\n",
    "    transaction = random.sample(items, num_items)\n",
    "    transactions.append(transaction)\n",
    "    \n",
    "for i, transaction in enumerate(transactions, 1):\n",
    "    print(f\"Transaction {i}: {transaction}\")\n"
   ]
  },
  {
   "cell_type": "markdown",
   "id": "c0212a89",
   "metadata": {},
   "source": [
    "## 2. Analyze with Apriori"
   ]
  },
  {
   "cell_type": "code",
   "execution_count": 15,
   "id": "8a9655d6",
   "metadata": {},
   "outputs": [
    {
     "data": {
      "application/vnd.microsoft.datawrangler.viewer.v0+json": {
       "columns": [
        {
         "name": "index",
         "rawType": "int64",
         "type": "integer"
        },
        {
         "name": "Apples",
         "rawType": "bool",
         "type": "boolean"
        },
        {
         "name": "Bananas",
         "rawType": "bool",
         "type": "boolean"
        },
        {
         "name": "Bread",
         "rawType": "bool",
         "type": "boolean"
        },
        {
         "name": "Cheese",
         "rawType": "bool",
         "type": "boolean"
        },
        {
         "name": "Eggs",
         "rawType": "bool",
         "type": "boolean"
        },
        {
         "name": "Milk",
         "rawType": "bool",
         "type": "boolean"
        },
        {
         "name": "Steak",
         "rawType": "bool",
         "type": "boolean"
        },
        {
         "name": "Yogurt",
         "rawType": "bool",
         "type": "boolean"
        }
       ],
       "ref": "095cf4c6-1138-424d-b6d0-da738a8b98cf",
       "rows": [
        [
         "0",
         "False",
         "True",
         "False",
         "True",
         "True",
         "False",
         "True",
         "True"
        ],
        [
         "1",
         "False",
         "True",
         "True",
         "False",
         "True",
         "True",
         "False",
         "False"
        ],
        [
         "2",
         "False",
         "False",
         "True",
         "True",
         "False",
         "True",
         "False",
         "False"
        ],
        [
         "3",
         "False",
         "False",
         "False",
         "False",
         "False",
         "False",
         "True",
         "True"
        ],
        [
         "4",
         "True",
         "False",
         "True",
         "True",
         "False",
         "True",
         "False",
         "False"
        ]
       ],
       "shape": {
        "columns": 8,
        "rows": 5
       }
      },
      "text/html": [
       "<div>\n",
       "<style scoped>\n",
       "    .dataframe tbody tr th:only-of-type {\n",
       "        vertical-align: middle;\n",
       "    }\n",
       "\n",
       "    .dataframe tbody tr th {\n",
       "        vertical-align: top;\n",
       "    }\n",
       "\n",
       "    .dataframe thead th {\n",
       "        text-align: right;\n",
       "    }\n",
       "</style>\n",
       "<table border=\"1\" class=\"dataframe\">\n",
       "  <thead>\n",
       "    <tr style=\"text-align: right;\">\n",
       "      <th></th>\n",
       "      <th>Apples</th>\n",
       "      <th>Bananas</th>\n",
       "      <th>Bread</th>\n",
       "      <th>Cheese</th>\n",
       "      <th>Eggs</th>\n",
       "      <th>Milk</th>\n",
       "      <th>Steak</th>\n",
       "      <th>Yogurt</th>\n",
       "    </tr>\n",
       "  </thead>\n",
       "  <tbody>\n",
       "    <tr>\n",
       "      <th>0</th>\n",
       "      <td>False</td>\n",
       "      <td>True</td>\n",
       "      <td>False</td>\n",
       "      <td>True</td>\n",
       "      <td>True</td>\n",
       "      <td>False</td>\n",
       "      <td>True</td>\n",
       "      <td>True</td>\n",
       "    </tr>\n",
       "    <tr>\n",
       "      <th>1</th>\n",
       "      <td>False</td>\n",
       "      <td>True</td>\n",
       "      <td>True</td>\n",
       "      <td>False</td>\n",
       "      <td>True</td>\n",
       "      <td>True</td>\n",
       "      <td>False</td>\n",
       "      <td>False</td>\n",
       "    </tr>\n",
       "    <tr>\n",
       "      <th>2</th>\n",
       "      <td>False</td>\n",
       "      <td>False</td>\n",
       "      <td>True</td>\n",
       "      <td>True</td>\n",
       "      <td>False</td>\n",
       "      <td>True</td>\n",
       "      <td>False</td>\n",
       "      <td>False</td>\n",
       "    </tr>\n",
       "    <tr>\n",
       "      <th>3</th>\n",
       "      <td>False</td>\n",
       "      <td>False</td>\n",
       "      <td>False</td>\n",
       "      <td>False</td>\n",
       "      <td>False</td>\n",
       "      <td>False</td>\n",
       "      <td>True</td>\n",
       "      <td>True</td>\n",
       "    </tr>\n",
       "    <tr>\n",
       "      <th>4</th>\n",
       "      <td>True</td>\n",
       "      <td>False</td>\n",
       "      <td>True</td>\n",
       "      <td>True</td>\n",
       "      <td>False</td>\n",
       "      <td>True</td>\n",
       "      <td>False</td>\n",
       "      <td>False</td>\n",
       "    </tr>\n",
       "  </tbody>\n",
       "</table>\n",
       "</div>"
      ],
      "text/plain": [
       "   Apples  Bananas  Bread  Cheese   Eggs   Milk  Steak  Yogurt\n",
       "0   False     True  False    True   True  False   True    True\n",
       "1   False     True   True   False   True   True  False   False\n",
       "2   False    False   True    True  False   True  False   False\n",
       "3   False    False  False   False  False  False   True    True\n",
       "4    True    False   True    True  False   True  False   False"
      ]
     },
     "execution_count": 15,
     "metadata": {},
     "output_type": "execute_result"
    }
   ],
   "source": [
    "# ONe hot encode\n",
    "te = TransactionEncoder()\n",
    "te_ary = te.fit(transactions).transform(transactions)\n",
    "df = pd.DataFrame(te_ary, columns=te.columns_)\n",
    "# Display the DataFrame\n",
    "df.head()"
   ]
  },
  {
   "cell_type": "code",
   "execution_count": 16,
   "id": "50af10b9",
   "metadata": {},
   "outputs": [
    {
     "name": "stdout",
     "output_type": "stream",
     "text": [
      "    support                itemsets\n",
      "0       0.4               (Bananas)\n",
      "1       0.7                 (Bread)\n",
      "2       0.6                (Cheese)\n",
      "3       0.5                  (Eggs)\n",
      "4       0.3                  (Milk)\n",
      "5       0.4                 (Steak)\n",
      "6       0.6                (Yogurt)\n",
      "7       0.3        (Bread, Bananas)\n",
      "8       0.3         (Eggs, Bananas)\n",
      "9       0.3       (Yogurt, Bananas)\n",
      "10      0.4         (Bread, Cheese)\n",
      "11      0.4           (Bread, Eggs)\n",
      "12      0.3           (Milk, Bread)\n",
      "13      0.4         (Yogurt, Bread)\n",
      "14      0.3          (Eggs, Cheese)\n",
      "15      0.3        (Yogurt, Cheese)\n",
      "16      0.4          (Yogurt, Eggs)\n",
      "17      0.3         (Yogurt, Steak)\n",
      "18      0.3   (Yogurt, Bread, Eggs)\n",
      "19      0.3  (Yogurt, Eggs, Cheese)\n"
     ]
    }
   ],
   "source": [
    "# Finding frequent Itemsets\n",
    "frequent_itemsets = apriori(df, min_support=0.3, use_colnames=True)\n",
    "print(frequent_itemsets)"
   ]
  },
  {
   "cell_type": "markdown",
   "id": "1e19d3b3",
   "metadata": {},
   "source": [
    "## 3. Gemnerating Rules\n",
    "Generating association Rules with minimum confidence of 0.7\n",
    "\n"
   ]
  },
  {
   "cell_type": "code",
   "execution_count": 17,
   "id": "c041ee2b",
   "metadata": {},
   "outputs": [
    {
     "name": "stdout",
     "output_type": "stream",
     "text": [
      "\n",
      "Association Rules:\n",
      "         antecedents consequents  support  confidence      lift\n",
      "0          (Bananas)     (Bread)      0.3        0.75  1.071429\n",
      "1          (Bananas)      (Eggs)      0.3        0.75  1.500000\n",
      "2          (Bananas)    (Yogurt)      0.3        0.75  1.250000\n",
      "3             (Eggs)     (Bread)      0.4        0.80  1.142857\n",
      "4             (Milk)     (Bread)      0.3        1.00  1.428571\n",
      "5             (Eggs)    (Yogurt)      0.4        0.80  1.333333\n",
      "6            (Steak)    (Yogurt)      0.3        0.75  1.250000\n",
      "7    (Yogurt, Bread)      (Eggs)      0.3        0.75  1.500000\n",
      "8     (Yogurt, Eggs)     (Bread)      0.3        0.75  1.071429\n",
      "9      (Bread, Eggs)    (Yogurt)      0.3        0.75  1.250000\n",
      "10    (Yogurt, Eggs)    (Cheese)      0.3        0.75  1.250000\n",
      "11  (Yogurt, Cheese)      (Eggs)      0.3        1.00  2.000000\n",
      "12    (Cheese, Eggs)    (Yogurt)      0.3        1.00  1.666667\n"
     ]
    }
   ],
   "source": [
    "rules = association_rules(frequent_itemsets, metric=\"confidence\", min_threshold=0.7)\n",
    "\n",
    "print(\"\\nAssociation Rules:\")\n",
    "print(rules[['antecedents', 'consequents', 'support', 'confidence', 'lift']])\n"
   ]
  },
  {
   "cell_type": "markdown",
   "id": "222ee985",
   "metadata": {},
   "source": [
    "### Rule Explanation:\n",
    "- If someone buys ['Bananas'], they are also likely to buy ['Bread']\n",
    "- This rule has a confidence of 0.75, meaning that 75% of transactions containing the antecedent also contain the consequent.\n",
    "- The support is 0.30, meaning these items appear together in 30% of all transactions."
   ]
  }
 ],
 "metadata": {
  "kernelspec": {
   "display_name": "base",
   "language": "python",
   "name": "python3"
  },
  "language_info": {
   "codemirror_mode": {
    "name": "ipython",
    "version": 3
   },
   "file_extension": ".py",
   "mimetype": "text/x-python",
   "name": "python",
   "nbconvert_exporter": "python",
   "pygments_lexer": "ipython3",
   "version": "3.11.5"
  }
 },
 "nbformat": 4,
 "nbformat_minor": 5
}
